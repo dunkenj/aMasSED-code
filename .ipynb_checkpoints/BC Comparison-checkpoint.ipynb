{
 "metadata": {
  "name": "",
  "signature": "sha256:5cc02f9819cf9b17609eca3bea3eac7111383b17bd360f3b9ada19a2a40f3d6f"
 },
 "nbformat": 3,
 "nbformat_minor": 0,
 "worksheets": [
  {
   "cells": [
    {
     "cell_type": "code",
     "collapsed": false,
     "input": [
      "%matplotlib inline\n",
      "import numpy as np\n",
      "import astropy.units as u\n",
      "import astropy.constants as c\n",
      "from astropy.cosmology import FlatLambdaCDM\n",
      "import smpy as S\n",
      "from sfh import power\n",
      "from misc_functions import tau_madau\n",
      "import matplotlib.pyplot as plt\n",
      "\n",
      "cosmo = FlatLambdaCDM(H0=70, Om0=0.3)"
     ],
     "language": "python",
     "metadata": {},
     "outputs": [],
     "prompt_number": 1
    },
    {
     "cell_type": "code",
     "collapsed": false,
     "input": [
      "BC03 = S.BC('ssp/bc03/chab/lr/')\n",
      "CB07 = S.BC('ssp/cb07/')"
     ],
     "language": "python",
     "metadata": {},
     "outputs": [],
     "prompt_number": 2
    },
    {
     "cell_type": "code",
     "collapsed": false,
     "input": [
      "SED_03 = S.CSP(BC03)\n",
      "SED_07 = S.CSP(CB07)\n",
      "\n",
      "Filts = S.FilterSet('fitting/GOODS-S_18_FilterCurves/Filter*_IRAC_ch*.txt')\n",
      "Irac1 = Filts.filters[0]\n",
      "Irac2 = Filts.filters[1]\n",
      "ir1 = Irac1.lambda_c + np.array([-0.5, 0.5])*Irac1.fwhm\n",
      "ir2 = Irac2.lambda_c + np.array([-0.5, 0.5])*Irac2.fwhm"
     ],
     "language": "python",
     "metadata": {},
     "outputs": [],
     "prompt_number": 3
    },
    {
     "cell_type": "code",
     "collapsed": false,
     "input": [
      "age = 1.5 * u.Gyr\n",
      "\n",
      "SED_03.build(age, 0.05*u.Gyr, 0., 1.)\n",
      "SED_07.build(age, 0.05*u.Gyr, 0., 1.)\n",
      "\n",
      "s03 = (SED_03.SED * (SED_03.wave**2 / c.c.to(u.AA/u.s))).to(u.solLum / u.Hz)\n",
      "s07 = (SED_07.SED * (SED_07.wave**2 / c.c.to(u.AA/u.s))).to(u.solLum / u.Hz)\n",
      "\n"
     ],
     "language": "python",
     "metadata": {},
     "outputs": [],
     "prompt_number": 42
    },
    {
     "cell_type": "code",
     "collapsed": false,
     "input": [
      "z = 4.\n",
      "\n",
      "age = 1.5 * u.Gyr\n",
      "\n",
      "SED_03.build(age, 0.05*u.Gyr, 0., 1.)\n",
      "SED_07.build(age, 0.05*u.Gyr, 0., 1.)\n",
      "\n",
      "s03 = (SED_03.SED * (SED_03.wave**2 / c.c.to(u.AA/u.s))).to(u.solLum / u.Hz)\n",
      "s07 = (SED_07.SED * (SED_07.wave**2 / c.c.to(u.AA/u.s))).to(u.solLum / u.Hz)\n",
      "\n",
      "f03 = S.Observe(SED_03,Filts,z)\n",
      "f07 = S.Observe(SED_07,Filts,z)\n",
      "print np.squeeze(f07.fluxes/f03.fluxes)\n",
      "\n",
      "Fig, Ax = plt.subplots(figsize=(5.5, 4.))\n",
      "Ax.semilogy(SED_03.wave.to(u.micron)*(1+z), 7e14*np.squeeze(s03)*tau_madau(SED_03.wave*(1+z),z), 'steelblue')\n",
      "Ax.semilogy(SED_07.wave.to(u.micron)*(1+z), 7e14*np.squeeze(s07)*tau_madau(SED_07.wave*(1+z),z), '--', color='steelblue')\n",
      "\n",
      "age = 0.5 * u.Gyr\n",
      "\n",
      "SED_03.build(age, 100*u.Gyr, 0., 1.)\n",
      "SED_07.build(age, 100*u.Gyr, 0., 1.)\n",
      "\n",
      "s03 = (SED_03.SED * (SED_03.wave**2 / c.c.to(u.AA/u.s))).to(u.solLum / u.Hz)\n",
      "s07 = (SED_07.SED * (SED_07.wave**2 / c.c.to(u.AA/u.s))).to(u.solLum / u.Hz)\n",
      "\n",
      "f03 = S.Observe(SED_03,Filts,z)\n",
      "f07 = S.Observe(SED_07,Filts,z)\n",
      "print np.squeeze(f07.fluxes/f03.fluxes)\n",
      "\n",
      "Ax.semilogy(SED_03.wave.to(u.micron)*(1+z), 4e14*np.squeeze(s03)*tau_madau(SED_03.wave*(1+z),z), 'firebrick')\n",
      "Ax.semilogy(SED_07.wave.to(u.micron)*(1+z), 4e14*np.squeeze(s07)*tau_madau(SED_07.wave*(1+z),z), '--', color='firebrick')\n",
      "\n",
      "\n",
      "Ax.fill_between(ir1.to(u.micron),1e-4,1e3, alpha=0.1, color='olivedrab')\n",
      "Ax.fill_between(ir2.to(u.micron),1e-4,1e3, alpha=0.1, color='olivedrab')\n",
      "Ax.set_xticks([0.2,0.5,1,2,3,4,5])\n",
      "Ax.set_xlim([0.2, 5.5])\n",
      "Ax.set_ylim([5e-2,2e1])\n",
      "\n",
      "Top = Ax.twiny()\n",
      "Top.set_xlim(np.array(Ax.get_xlim())/z)\n",
      "Top.set_xticks((np.array(Ax.get_xticks())/z)[1:])\n",
      "Top.set_xticklabels(np.around(Top.get_xticks(),2))\n",
      "\n",
      "\n",
      "Ax.text(Irac1.lambda_c.to(u.micron).value,1e-1, 'IRAC 1', horizontalalignment='center')\n",
      "Ax.text(Irac2.lambda_c.to(u.micron).value,1e-1, 'IRAC 2', horizontalalignment='center')\n",
      "Ax.text(1.,1e1, 'z = %.0f' % z,horizontalalignment='center',size=12)\n",
      "\n",
      "Ax.plot([1e10,1e10],[1e10,1e10], 'k-',label='2003')\n",
      "Ax.plot([1e10,1e10],[1e10,1e10], 'k--',label='2007')\n",
      "\n",
      "Leg = Ax.legend(loc='lower left')\n",
      "Leg.draw_frame(True)\n",
      "Ax.set_xlabel(r'Observed Wavelength, $\\mu\\rm{m}$')\n",
      "Top.set_xlabel(r'Rest-frame Wavelength, $\\mu\\rm{m}$')\n",
      "Ax.set_ylabel(r'$F_{\\nu}$ (Arbitrary Units)')\n",
      "Fig.subplots_adjust(top=0.88)\n",
      "Fig.savefig('BC_comparison.pdf',format='pdf')"
     ],
     "language": "python",
     "metadata": {},
     "outputs": [
      {
       "output_type": "stream",
       "stream": "stdout",
       "text": [
        "[ 1.04002211  1.31563574  1.58945624  1.72437076]\n",
        "[ 1.01197434  1.12210687  1.27277329  1.36657158]"
       ]
      },
      {
       "output_type": "stream",
       "stream": "stdout",
       "text": [
        "\n"
       ]
      },
      {
       "metadata": {},
       "output_type": "display_data",
       "png": "[encoded data removed]",
       "text": [
        "<matplotlib.figure.Figure at 0x1199396d0>"
       ]
      }
     ],
     "prompt_number": 70
    },
    {
     "cell_type": "code",
     "collapsed": false,
     "input": [
      "\n"
     ],
     "language": "python",
     "metadata": {},
     "outputs": [
      {
       "output_type": "stream",
       "stream": "stdout",
       "text": [
        "[ 1.01197434  1.12210687  1.27277329  1.36657158]\n"
       ]
      }
     ],
     "prompt_number": 62
    },
    {
     "cell_type": "code",
     "collapsed": false,
     "input": [],
     "language": "python",
     "metadata": {},
     "outputs": []
    }
   ],
   "metadata": {}
  }
 ]
}