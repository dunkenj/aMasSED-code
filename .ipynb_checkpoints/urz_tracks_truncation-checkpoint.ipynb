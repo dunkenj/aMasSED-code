{
 "cells": [
  {
   "cell_type": "markdown",
   "metadata": {},
   "source": [
    "# u-z vs z-r Colour Diagram"
   ]
  },
  {
   "cell_type": "markdown",
   "metadata": {},
   "source": [
    "This example plots the age evolution of star-forming and quiescent star-formation histories on the U-V V-J (UVJ) colour diagram."
   ]
  },
  {
   "cell_type": "code",
   "execution_count": 1,
   "metadata": {
    "collapsed": false
   },
   "outputs": [
    {
     "name": "stdout",
     "output_type": "stream",
     "text": [
      "Populating the interactive namespace from numpy and matplotlib\n",
      "bc03\n"
     ]
    }
   ],
   "source": [
    "%pylab inline\n",
    "\n",
    "import smpy as S\n",
    "import ssp as B\n",
    "import numpy as np\n",
    "from sfh import truncated, truncated_exp\n",
    "\n",
    "import astropy.units as u\n",
    "import matplotlib.pyplot as plt\n",
    "reload(S)\n",
    "\n",
    "print('bc03')\n",
    "path = '/Users/ken/Documents/Astro/code/bc03/models/Padova1994/salpeter/bc2003_lr_BaSeL_m'\n",
    "BC03 = B.BC(path)"
   ]
  },
  {
   "cell_type": "code",
   "execution_count": null,
   "metadata": {
    "collapsed": true
   },
   "outputs": [],
   "source": []
  },
  {
   "cell_type": "markdown",
   "metadata": {},
   "source": [
    "Setting up the U, V and J filters we want to use. Using both filter files and an EAZY filter set."
   ]
  },
  {
   "cell_type": "code",
   "execution_count": 2,
   "metadata": {
    "collapsed": false
   },
   "outputs": [],
   "source": [
    "EAZYfilters = S.LoadEAZYFilters('FILTER.RES.V8')"
   ]
  },
  {
   "cell_type": "code",
   "execution_count": 3,
   "metadata": {
    "collapsed": false
   },
   "outputs": [
    {
     "name": "stdout",
     "output_type": "stream",
     "text": [
      "Index Lambda_c   Angstrom       Name\n",
      "144   3563.88  Angstrom      REST_FRAME/Gunn_u.dat\n",
      "145   4689.84  Angstrom      REST_FRAME/Gunn_g.dat\n",
      "146   6183.47  Angstrom      REST_FRAME/Gunn_r.dat\n",
      "147   7502.51  Angstrom      REST_FRAME/Gunn_i.dat\n",
      "148   8886.41  Angstrom      REST_FRAME/Gunn_z.dat\n"
     ]
    }
   ],
   "source": [
    "ugriz = EAZYfilters.search('Gunn')\n",
    "Filts = S.FilterSet()\n",
    "Filts.addEAZYFilter(EAZYfilters, ugriz)"
   ]
  },
  {
   "cell_type": "code",
   "execution_count": 246,
   "metadata": {
    "collapsed": false
   },
   "outputs": [],
   "source": [
    "min_age = 1*u.Gyr\n",
    "max_age = min_age + (np.linspace(0., 10, 11) * u.Gyr) # Ages to passively evolve to\n",
    "trunc_frac = min_age/max_age"
   ]
  },
  {
   "cell_type": "code",
   "execution_count": 254,
   "metadata": {
    "collapsed": false
   },
   "outputs": [],
   "source": [
    "csps = S.CSP(BC03)\n",
    "csps.build(max_age, trunc_frac, 0.0, 1., fesc=1., sfh_law=truncated)\n",
    "\n",
    "csps_c = S.CSP(BC03)\n",
    "csps_c.build(max_age, 10*u.Myr, 0.0, 1., fesc=1)\n"
   ]
  },
  {
   "cell_type": "code",
   "execution_count": 248,
   "metadata": {
    "collapsed": false
   },
   "outputs": [],
   "source": [
    "mock_obs = S.Observe(csps, Filts, 0.0001) # Observe CSPs through Filts at z = 0.\n",
    "ab_mags = np.squeeze(mock_obs.AB)\n",
    "\n",
    "mock_obs_c = S.Observe(csps_c, Filts, 0.0001) # Observe CSPs through Filts at z = 0.\n",
    "ab_mags_c = np.squeeze(mock_obs_c.AB)\n"
   ]
  },
  {
   "cell_type": "code",
   "execution_count": 249,
   "metadata": {
    "collapsed": false
   },
   "outputs": [
    {
     "data": {
      "text/latex": [
       "$[1,~0.47368421,~0.31034483,~0.23076923,~0.18367347,~0.15254237,~0.13043478,~0.11392405,~0.1011236,~0.090909091] \\; \\mathrm{}$"
      ],
      "text/plain": [
       "<Quantity [ 1.        , 0.47368421, 0.31034483, 0.23076923, 0.18367347,\n",
       "            0.15254237, 0.13043478, 0.11392405, 0.1011236 , 0.09090909]>"
      ]
     },
     "execution_count": 249,
     "metadata": {},
     "output_type": "execute_result"
    }
   ],
   "source": [
    "trunc_frac"
   ]
  },
  {
   "cell_type": "code",
   "execution_count": null,
   "metadata": {
    "collapsed": true
   },
   "outputs": [],
   "source": []
  },
  {
   "cell_type": "code",
   "execution_count": 250,
   "metadata": {
    "collapsed": false
   },
   "outputs": [],
   "source": [
    "u_r = (ab_mags[0]-ab_mags[2]).diagonal() # Taking the diagonal pairs corresponding ages and trunc_frac\n",
    "r_z = (ab_mags[2]-ab_mags[4]).diagonal()\n",
    "\n",
    "u_rc = (ab_mags_c[0]-ab_mags_c[2]) # Taking the diagonal pairs corresponding ages and trunc_frac\n",
    "r_zc = (ab_mags_c[2]-ab_mags_c[4])"
   ]
  },
  {
   "cell_type": "code",
   "execution_count": 251,
   "metadata": {
    "collapsed": false
   },
   "outputs": [
    {
     "data": {
      "text/latex": [
       "$[0.32220271,~0.52160814,~0.60463559,~0.61864454,~0.63394781,~0.64964147,~0.67240151,~0.69260591,~0.70897901,~0.72108494] \\; \\mathrm{mag}$"
      ],
      "text/plain": [
       "<Quantity [ 0.32220271, 0.52160814, 0.60463559, 0.61864454, 0.63394781,\n",
       "            0.64964147, 0.67240151, 0.69260591, 0.70897901, 0.72108494] mag>"
      ]
     },
     "execution_count": 251,
     "metadata": {},
     "output_type": "execute_result"
    }
   ],
   "source": [
    "r_zc"
   ]
  },
  {
   "cell_type": "markdown",
   "metadata": {},
   "source": [
    "### Plot resulting colour tracks"
   ]
  },
  {
   "cell_type": "code",
   "execution_count": 260,
   "metadata": {
    "collapsed": false
   },
   "outputs": [
    {
     "name": "stdout",
     "output_type": "stream",
     "text": [
      "0 1.0\n",
      "1 2.11111111111\n",
      "2 3.22222222222\n",
      "3 4.33333333333\n",
      "4 5.44444444444\n",
      "5 6.55555555556\n",
      "6 7.66666666667\n",
      "7 8.77777777778\n",
      "8 9.88888888889\n",
      "9 11.0\n"
     ]
    },
    {
     "data": {
      "image/png": "[encoded data removed]",
      "text/plain": [
       "<matplotlib.figure.Figure at 0x111911310>"
      ]
     },
     "metadata": {},
     "output_type": "display_data"
    }
   ],
   "source": [
    "plt.plot(r_z,u_r, lw=2, color='red', label='Truncated 0 to 1 Gyr ago')\n",
    "plt.plot(r_zc,u_rc, lw=2, color='firebrick', label='Exp. Declining')\n",
    "for i, age in enumerate(max_age.value):\n",
    "    print i, age\n",
    "    #plt.text(r_zc[i], u_rc[i], str(age))\n",
    "\n",
    "\n",
    "plt.ylim([0.5,3.])\n",
    "plt.xlim([0.2,1.])\n",
    "plt.xlabel('r - z')\n",
    "plt.ylabel('u - r')\n",
    "Leg = plt.legend(loc='lower right')\n",
    "Leg.draw_frame(False)\n",
    "plt.show()"
   ]
  },
  {
   "cell_type": "code",
   "execution_count": 84,
   "metadata": {
    "collapsed": false
   },
   "outputs": [
    {
     "ename": "ImportError",
     "evalue": "No module named atpy",
     "output_type": "error",
     "traceback": [
      "\u001b[0;31m---------------------------------------------------------------------------\u001b[0m",
      "\u001b[0;31mImportError\u001b[0m                               Traceback (most recent call last)",
      "\u001b[0;32m<ipython-input-84-adad2aeadfd6>\u001b[0m in \u001b[0;36m<module>\u001b[0;34m()\u001b[0m\n\u001b[0;32m----> 1\u001b[0;31m \u001b[0;32mimport\u001b[0m \u001b[0matpy\u001b[0m\u001b[0;34m\u001b[0m\u001b[0m\n\u001b[0m\u001b[1;32m      2\u001b[0m \u001b[0;32mimport\u001b[0m \u001b[0mos\u001b[0m\u001b[0;34m\u001b[0m\u001b[0m\n\u001b[1;32m      3\u001b[0m \u001b[0mages\u001b[0m \u001b[0;34m=\u001b[0m \u001b[0mnumpy\u001b[0m\u001b[0;34m.\u001b[0m\u001b[0mlogspace\u001b[0m\u001b[0;34m(\u001b[0m\u001b[0;34m-\u001b[0m\u001b[0;36m1.\u001b[0m\u001b[0;34m,\u001b[0m\u001b[0;36m1.\u001b[0m\u001b[0;34m,\u001b[0m\u001b[0;36m50\u001b[0m\u001b[0;34m)\u001b[0m\u001b[0;34m\u001b[0m\u001b[0m\n\u001b[1;32m      4\u001b[0m \u001b[0;34m\u001b[0m\u001b[0m\n\u001b[1;32m      5\u001b[0m \u001b[0;34m\u001b[0m\u001b[0m\n",
      "\u001b[0;31mImportError\u001b[0m: No module named atpy"
     ]
    }
   ],
   "source": [
    "import atpy\n",
    "import os\n",
    "ages = numpy.logspace(-1.,1.,50)\n",
    "\n",
    "\n",
    "NewTable = atpy.Table(name='UVJ')\n",
    "NewTable.add_column('Age_gyr',aa)\n",
    "NewTable.add_column('UV_constant',UV_constant)\n",
    "NewTable.add_column('VJ_constant',VJ_constant)\n",
    "NewTable.add_column('UV_declining',UV_declining)\n",
    "NewTable.add_column('VJ_declining',VJ_declining)\n",
    "os.remove('UVJ_colours.txt')\n",
    "NewTable.write('UVJ_colours.txt',type='ascii')"
   ]
  },
  {
   "cell_type": "code",
   "execution_count": null,
   "metadata": {
    "collapsed": false
   },
   "outputs": [],
   "source": []
  }
 ],
 "metadata": {
  "kernelspec": {
   "display_name": "Python 2",
   "language": "python",
   "name": "python2"
  },
  "language_info": {
   "codemirror_mode": {
    "name": "ipython",
    "version": 2
   },
   "file_extension": ".py",
   "mimetype": "text/x-python",
   "name": "python",
   "nbconvert_exporter": "python",
   "pygments_lexer": "ipython2",
   "version": "2.7.10"
  }
 },
 "nbformat": 4,
 "nbformat_minor": 0
}
